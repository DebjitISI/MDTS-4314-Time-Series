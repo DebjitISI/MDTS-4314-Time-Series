{
 "cells": [
  {
   "cell_type": "code",
   "execution_count": 3,
   "id": "1d7dd1d7-93a6-47e4-970f-e870ca0f5a68",
   "metadata": {},
   "outputs": [
    {
     "name": "stdout",
     "output_type": "stream",
     "text": [
      "The roots of the polynomial are: [16.03912564 -1.03912564]\n"
     ]
    }
   ],
   "source": [
    "import numpy as np\n",
    "\n",
    "# Define the coefficients of the polynomial\n",
    "#  for x^2 + 3x + 2, the coefficients are [1, 3, 2]\n",
    "coefficients = [3, -45, -50]\n",
    "\n",
    "# Find the roots\n",
    "roots = np.roots(coefficients)\n",
    "\n",
    "print(\"The roots of the polynomial are:\", roots)"
   ]
  }
 ],
 "metadata": {
  "kernelspec": {
   "display_name": "Python 3 (ipykernel)",
   "language": "python",
   "name": "python3"
  },
  "language_info": {
   "codemirror_mode": {
    "name": "ipython",
    "version": 3
   },
   "file_extension": ".py",
   "mimetype": "text/x-python",
   "name": "python",
   "nbconvert_exporter": "python",
   "pygments_lexer": "ipython3",
   "version": "3.13.5"
  }
 },
 "nbformat": 4,
 "nbformat_minor": 5
}
